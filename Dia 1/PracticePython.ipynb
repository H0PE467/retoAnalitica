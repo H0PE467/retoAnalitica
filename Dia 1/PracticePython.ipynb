{
 "cells": [
  {
   "cell_type": "code",
   "execution_count": 2,
   "id": "b04d038c",
   "metadata": {},
   "outputs": [
    {
     "data": {
      "text/plain": [
       "[1, 2, 3, 5, 7, 11, 13, 17, 19]"
      ]
     },
     "execution_count": 2,
     "metadata": {},
     "output_type": "execute_result"
    }
   ],
   "source": [
    "import math\n",
    "\n",
    "def findPrimes(N):\n",
    "    primes = []\n",
    "    for i in range(1,N):\n",
    "        isPrime = True\n",
    "        for j in range(2,i-1):\n",
    "            if i%j==0:\n",
    "                isPrime = False\n",
    "        if isPrime:\n",
    "            primes.append(i)\n",
    "    return primes\n",
    "\n",
    "findPrimes(20)"
   ]
  },
  {
   "cell_type": "code",
   "execution_count": 4,
   "id": "333ee71e",
   "metadata": {},
   "outputs": [
    {
     "data": {
      "text/plain": [
       "[-43, 13, 1]"
      ]
     },
     "execution_count": 4,
     "metadata": {},
     "output_type": "execute_result"
    }
   ],
   "source": [
    "import math\n",
    "\n",
    "def crossProduct(vector1,vector2):\n",
    "    newVector = []\n",
    "    newVar = vector1[1]*vector2[2] - vector1[2]*vector2[1]\n",
    "    newVector.append(newVar)\n",
    "    newVar = vector1[2]*vector2[0] - vector1[0]*vector2[2]\n",
    "    newVector.append(newVar)\n",
    "    newVar = vector1[0]*vector2[1] - vector1[1]*vector2[0]\n",
    "    newVector.append(newVar)\n",
    "\n",
    "    return newVector\n",
    "\n",
    "lista1 = [1,3,4]\n",
    "lista2 = [2,7,-5]\n",
    "\n",
    "crossProduct(lista1,lista2)\n"
   ]
  },
  {
   "cell_type": "code",
   "execution_count": 19,
   "id": "16be180e",
   "metadata": {},
   "outputs": [
    {
     "data": {
      "text/plain": [
       "[-43, 13, 1]"
      ]
     },
     "execution_count": 19,
     "metadata": {},
     "output_type": "execute_result"
    }
   ],
   "source": [
    "import csv\n",
    "import math\n",
    "\n",
    "def crossProduct(vector1,vector2):\n",
    "    newVector = []\n",
    "    newVar = int(vector1[1])*int(vector2[2]) - int(vector1[2])*int(vector2[1])\n",
    "    newVector.append(newVar)\n",
    "    newVar = int(vector1[2])*int(vector2[0]) - int(vector1[0])*int(vector2[2])                                            \n",
    "    newVector.append(newVar)\n",
    "    newVar = int(vector1[0])*int(vector2[1]) - int(vector1[1])*int(vector2[0])\n",
    "    newVector.append(newVar)\n",
    "\n",
    "    return newVector\n",
    "\n",
    "file = open('Variables.csv')\n",
    "csvreader = csv.reader(file)\n",
    "variable1 = next(csvreader)\n",
    "variable2 = next(csvreader)\n",
    "\n",
    "crossProduct(variable1,variable2)"
   ]
  }
 ],
 "metadata": {
  "interpreter": {
   "hash": "507ae10de1454e82fc48ab692e31acc79206ffa6d1e74250e45d54f5807e756e"
  },
  "kernelspec": {
   "display_name": "Python 3 (ipykernel)",
   "language": "python",
   "name": "python3"
  },
  "language_info": {
   "codemirror_mode": {
    "name": "ipython",
    "version": 3
   },
   "file_extension": ".py",
   "mimetype": "text/x-python",
   "name": "python",
   "nbconvert_exporter": "python",
   "pygments_lexer": "ipython3",
   "version": "3.9.12"
  }
 },
 "nbformat": 4,
 "nbformat_minor": 5
}
