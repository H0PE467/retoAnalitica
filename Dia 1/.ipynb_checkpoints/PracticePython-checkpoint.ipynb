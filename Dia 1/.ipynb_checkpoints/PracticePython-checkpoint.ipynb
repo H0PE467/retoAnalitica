{
 "cells": [
  {
   "cell_type": "code",
   "execution_count": 2,
   "id": "b04d038c",
   "metadata": {},
   "outputs": [
    {
     "data": {
      "text/plain": [
       "[1, 2, 3, 5, 7, 11, 13, 17, 19]"
      ]
     },
     "execution_count": 2,
     "metadata": {},
     "output_type": "execute_result"
    }
   ],
   "source": [
    "import math\n",
    "\n",
    "def findPrimes(N):\n",
    "    primes = []\n",
    "    for i in range(1,N):\n",
    "        isPrime = True\n",
    "        for j in range(2,i-1):\n",
    "            if i%j==0:\n",
    "                isPrime = False\n",
    "        if isPrime:\n",
    "            primes.append(i)\n",
    "    return primes\n",
    "\n",
    "findPrimes(20)"
   ]
  },
  {
   "cell_type": "code",
   "execution_count": 4,
   "id": "333ee71e",
   "metadata": {},
   "outputs": [
    {
     "data": {
      "text/plain": [
       "[-43, 13, 1]"
      ]
     },
     "execution_count": 4,
     "metadata": {},
     "output_type": "execute_result"
    }
   ],
   "source": [
    "import math\n",
    "\n",
    "def crossProduct(vector1,vector2):\n",
    "    newVector = []\n",
    "    newVar = vector1[1]*vector2[2] - vector1[2]*vector2[1]\n",
    "    newVector.append(newVar)\n",
    "    newVar = vector1[2]*vector2[0] - vector1[0]*vector2[2]\n",
    "    newVector.append(newVar)\n",
    "    newVar = vector1[0]*vector2[1] - vector1[1]*vector2[0]\n",
    "    newVector.append(newVar)\n",
    "\n",
    "    return newVector\n",
    "\n",
    "lista1 = [1,3,4]\n",
    "lista2 = [2,7,-5]\n",
    "\n",
    "crossProduct(lista1,lista2)\n"
   ]
  },
  {
   "cell_type": "code",
   "execution_count": 5,
   "id": "2e3395a7",
   "metadata": {},
   "outputs": [
    {
     "name": "stdout",
     "output_type": "stream",
     "text": [
      "['ï»¿\"[1', '3', '4]\"', '[2,7,-5]']\n"
     ]
    },
    {
     "ename": "IndexError",
     "evalue": "string index out of range",
     "output_type": "error",
     "traceback": [
      "\u001b[1;31m---------------------------------------------------------------------------\u001b[0m",
      "\u001b[1;31mIndexError\u001b[0m                                Traceback (most recent call last)",
      "Input \u001b[1;32mIn [5]\u001b[0m, in \u001b[0;36m<cell line: 21>\u001b[1;34m()\u001b[0m\n\u001b[0;32m     17\u001b[0m variables \u001b[38;5;241m=\u001b[39m \u001b[38;5;28mnext\u001b[39m(csvreader)\n\u001b[0;32m     19\u001b[0m \u001b[38;5;28mprint\u001b[39m(variables)\n\u001b[1;32m---> 21\u001b[0m \u001b[43mcrossProduct\u001b[49m\u001b[43m(\u001b[49m\u001b[43mvariables\u001b[49m\u001b[43m[\u001b[49m\u001b[38;5;241;43m0\u001b[39;49m\u001b[43m]\u001b[49m\u001b[43m,\u001b[49m\u001b[43mvariables\u001b[49m\u001b[43m[\u001b[49m\u001b[38;5;241;43m1\u001b[39;49m\u001b[43m]\u001b[49m\u001b[43m)\u001b[49m\n",
      "Input \u001b[1;32mIn [5]\u001b[0m, in \u001b[0;36mcrossProduct\u001b[1;34m(vector1, vector2)\u001b[0m\n\u001b[0;32m      4\u001b[0m \u001b[38;5;28;01mdef\u001b[39;00m \u001b[38;5;21mcrossProduct\u001b[39m(vector1,vector2):\n\u001b[0;32m      5\u001b[0m     newVector \u001b[38;5;241m=\u001b[39m []\n\u001b[1;32m----> 6\u001b[0m     newVar \u001b[38;5;241m=\u001b[39m vector1[\u001b[38;5;241m1\u001b[39m]\u001b[38;5;241m*\u001b[39m\u001b[43mvector2\u001b[49m\u001b[43m[\u001b[49m\u001b[38;5;241;43m2\u001b[39;49m\u001b[43m]\u001b[49m \u001b[38;5;241m-\u001b[39m vector1[\u001b[38;5;241m2\u001b[39m]\u001b[38;5;241m*\u001b[39mvector2[\u001b[38;5;241m1\u001b[39m]\n\u001b[0;32m      7\u001b[0m     newVector\u001b[38;5;241m.\u001b[39mappend(newVar)\n\u001b[0;32m      8\u001b[0m     newVar \u001b[38;5;241m=\u001b[39m vector1[\u001b[38;5;241m2\u001b[39m]\u001b[38;5;241m*\u001b[39mvector2[\u001b[38;5;241m0\u001b[39m] \u001b[38;5;241m-\u001b[39m vector1[\u001b[38;5;241m0\u001b[39m]\u001b[38;5;241m*\u001b[39mvector2[\u001b[38;5;241m2\u001b[39m]\n",
      "\u001b[1;31mIndexError\u001b[0m: string index out of range"
     ]
    }
   ],
   "source": [
    "import csv\n",
    "import math\n",
    "\n",
    "def crossProduct(vector1,vector2):\n",
    "    newVector = []\n",
    "    newVar = vector1[1]*vector2[2] - vector1[2]*vector2[1]\n",
    "    newVector.append(newVar)\n",
    "    newVar = vector1[2]*vector2[0] - vector1[0]*vector2[2]\n",
    "    newVector.append(newVar)\n",
    "    newVar = vector1[0]*vector2[1] - vector1[1]*vector2[0]\n",
    "    newVector.append(newVar)\n",
    "\n",
    "    return newVector\n",
    "\n",
    "file = open('Variables.csv')\n",
    "csvreader = csv.reader(file)\n",
    "variables = next(csvreader)\n",
    "\n",
    "print(variables)\n",
    "print(variables[0])\n",
    "print(variables[1])\n",
    "\n",
    "crossProduct(variables[0],variables[1])"
   ]
  }
 ],
 "metadata": {
  "interpreter": {
   "hash": "507ae10de1454e82fc48ab692e31acc79206ffa6d1e74250e45d54f5807e756e"
  },
  "kernelspec": {
   "display_name": "Python 3 (ipykernel)",
   "language": "python",
   "name": "python3"
  },
  "language_info": {
   "codemirror_mode": {
    "name": "ipython",
    "version": 3
   },
   "file_extension": ".py",
   "mimetype": "text/x-python",
   "name": "python",
   "nbconvert_exporter": "python",
   "pygments_lexer": "ipython3",
   "version": "3.9.12"
  }
 },
 "nbformat": 4,
 "nbformat_minor": 5
}
